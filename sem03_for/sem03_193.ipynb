{
 "cells": [
  {
   "cell_type": "markdown",
   "metadata": {},
   "source": [
    "## Пишем небольшую игру "
   ]
  },
  {
   "cell_type": "code",
   "execution_count": 1,
   "metadata": {},
   "outputs": [],
   "source": [
    "import random\n",
    "n = random.randint(1, 100)"
   ]
  },
  {
   "cell_type": "code",
   "execution_count": 2,
   "metadata": {},
   "outputs": [
    {
     "name": "stdout",
     "output_type": "stream",
     "text": [
      "введите ответ50\n",
      "Реальный ответ больше, чем ваше число\n"
     ]
    }
   ],
   "source": [
    "ans = int(input(\"введите ответ\"))\n",
    "if ans == n:\n",
    "    print(\"Вы угадали\")\n",
    "elif ans > n:\n",
    "    print('Реальный ответ меньше, чем ваше число')\n",
    "else:\n",
    "    print('Реальный ответ больше, чем ваше число')"
   ]
  },
  {
   "cell_type": "code",
   "execution_count": 3,
   "metadata": {},
   "outputs": [
    {
     "name": "stdout",
     "output_type": "stream",
     "text": [
      "Привет, Полина\n",
      "5\n",
      "Привет, Аня\n",
      "5\n",
      "Привет, Маша\n",
      "5\n"
     ]
    }
   ],
   "source": [
    "names = ['Полина', 'Аня', 'Маша']\n",
    "for name in names:\n",
    "    print(f'Привет, {name}')\n",
    "    print(5)"
   ]
  },
  {
   "cell_type": "code",
   "execution_count": 4,
   "metadata": {},
   "outputs": [
    {
     "data": {
      "text/plain": [
       "3"
      ]
     },
     "execution_count": 4,
     "metadata": {},
     "output_type": "execute_result"
    }
   ],
   "source": [
    "names = ['Полина', 'Аня', 'Маша']\n",
    "len(names) # длина списка"
   ]
  },
  {
   "cell_type": "code",
   "execution_count": 5,
   "metadata": {},
   "outputs": [
    {
     "name": "stdout",
     "output_type": "stream",
     "text": [
      "Привет, Полина номер 0\n",
      "Привет, Аня номер 1\n",
      "Привет, Маша номер 2\n"
     ]
    }
   ],
   "source": [
    "names = ['Полина', 'Аня', 'Маша']\n",
    "i = 0\n",
    "while i < len(names):\n",
    "    print(f'Привет, {names[i]} номер {i}')\n",
    "    i += 1 # i = i + 1"
   ]
  },
  {
   "cell_type": "code",
   "execution_count": 6,
   "metadata": {},
   "outputs": [
    {
     "data": {
      "text/plain": [
       "range(1, 10)"
      ]
     },
     "execution_count": 6,
     "metadata": {},
     "output_type": "execute_result"
    }
   ],
   "source": [
    "range(1,10)"
   ]
  },
  {
   "cell_type": "code",
   "execution_count": 7,
   "metadata": {},
   "outputs": [
    {
     "data": {
      "text/plain": [
       "[1, 21, 41, 61, 81]"
      ]
     },
     "execution_count": 7,
     "metadata": {},
     "output_type": "execute_result"
    }
   ],
   "source": [
    "list(range(1, 100, 20))"
   ]
  },
  {
   "cell_type": "code",
   "execution_count": 8,
   "metadata": {},
   "outputs": [
    {
     "data": {
      "text/plain": [
       "5050"
      ]
     },
     "execution_count": 8,
     "metadata": {},
     "output_type": "execute_result"
    }
   ],
   "source": [
    "s = 0 # сумма первых 100 чисел\n",
    "for i in range(1, 101):\n",
    "    s += i\n",
    "s"
   ]
  },
  {
   "cell_type": "code",
   "execution_count": 9,
   "metadata": {},
   "outputs": [
    {
     "name": "stdout",
     "output_type": "stream",
     "text": [
      "введите ответ50\n",
      "Реальный ответ меньше, чем ваше число\n",
      "введите ответ25\n",
      "Реальный ответ больше, чем ваше число\n",
      "введите ответ35\n",
      "Реальный ответ больше, чем ваше число\n",
      "введите ответ45\n",
      "Реальный ответ больше, чем ваше число\n",
      "введите ответ47\n",
      "Вы угадали\n",
      "Поздравляю! Вы победили!\n"
     ]
    }
   ],
   "source": [
    "import random\n",
    "n = random.randint(1, 100)\n",
    "ans = None\n",
    "\n",
    "while ans != n:\n",
    "    ans = int(input(\"введите ответ\"))\n",
    "    if ans == n:\n",
    "        print(\"Вы угадали\")\n",
    "    elif ans > n:\n",
    "        print('Реальный ответ меньше, чем ваше число')\n",
    "    else:\n",
    "        print('Реальный ответ больше, чем ваше число')\n",
    "\n",
    "print('Поздравляю! Вы победили!')"
   ]
  },
  {
   "cell_type": "markdown",
   "metadata": {},
   "source": [
    "## Задача про Удава"
   ]
  },
  {
   "cell_type": "code",
   "execution_count": 10,
   "metadata": {},
   "outputs": [
    {
     "data": {
      "text/plain": [
       "0.9350603452727098"
      ]
     },
     "execution_count": 10,
     "metadata": {},
     "output_type": "execute_result"
    }
   ],
   "source": [
    "random.uniform(0,1)\n",
    "# random.random()"
   ]
  },
  {
   "cell_type": "code",
   "execution_count": 11,
   "metadata": {},
   "outputs": [
    {
     "data": {
      "text/plain": [
       "3"
      ]
     },
     "execution_count": 11,
     "metadata": {},
     "output_type": "execute_result"
    }
   ],
   "source": [
    "l = 1      # длина багета \n",
    "n_cnt = 0  # число укусов\n",
    "\n",
    "while l > 0:\n",
    "    X = random.uniform(0,1)\n",
    "    l = l - X # l -= X \n",
    "    n_cnt += 1\n",
    "n_cnt"
   ]
  },
  {
   "cell_type": "code",
   "execution_count": 12,
   "metadata": {},
   "outputs": [],
   "source": [
    "def pupa(me):\n",
    "    print(w) # показать зарплату но не отдать её\n",
    "    return w # отдать зарплату на"
   ]
  },
  {
   "cell_type": "code",
   "execution_count": 13,
   "metadata": {},
   "outputs": [
    {
     "name": "stdout",
     "output_type": "stream",
     "text": [
      "1810\n",
      "None\n"
     ]
    }
   ],
   "source": [
    "def ffff(x):\n",
    "    y = x**2 + x + 4\n",
    "    print(y)\n",
    "    #return y\n",
    "\n",
    "yyy = ffff(42)\n",
    "print(yyy)"
   ]
  },
  {
   "cell_type": "code",
   "execution_count": 14,
   "metadata": {},
   "outputs": [],
   "source": [
    "def omnonomnom(l):\n",
    "    n_cnt = 0  # число укусов\n",
    "\n",
    "    while l > 0:\n",
    "        X = random.uniform(0,1)\n",
    "        l = l - X # l -= X \n",
    "        n_cnt += 1\n",
    "    return n_cnt"
   ]
  },
  {
   "cell_type": "code",
   "execution_count": 15,
   "metadata": {},
   "outputs": [
    {
     "data": {
      "text/plain": [
       "4"
      ]
     },
     "execution_count": 15,
     "metadata": {},
     "output_type": "execute_result"
    }
   ],
   "source": [
    "omnonomnom(1)"
   ]
  },
  {
   "cell_type": "code",
   "execution_count": 16,
   "metadata": {},
   "outputs": [
    {
     "data": {
      "text/plain": [
       "11"
      ]
     },
     "execution_count": 16,
     "metadata": {},
     "output_type": "execute_result"
    }
   ],
   "source": [
    "omnonomnom(4)"
   ]
  },
  {
   "cell_type": "code",
   "execution_count": null,
   "metadata": {},
   "outputs": [],
   "source": [
    "!pip install tqdm"
   ]
  },
  {
   "cell_type": "code",
   "execution_count": 17,
   "metadata": {},
   "outputs": [
    {
     "name": "stderr",
     "output_type": "stream",
     "text": [
      "100%|██████████| 1000000/1000000 [00:02<00:00, 465532.45it/s]\n"
     ]
    },
    {
     "data": {
      "text/plain": [
       "[4, 2, 2, 2, 3, 2, 3, 2, 4, 3]"
      ]
     },
     "execution_count": 17,
     "metadata": {},
     "output_type": "execute_result"
    }
   ],
   "source": [
    "from tqdm import tqdm_notebook\n",
    "\n",
    "result = [ ]\n",
    "cnt_3 = 0 # счетчик выпадения троек \n",
    "\n",
    "for i in tqdm_notebook(range(10**6)):\n",
    "    n_cnt = omnonomnom(1)\n",
    "    # append - добавить новое число в лист\n",
    "    result.append(n_cnt)\n",
    "    \n",
    "    # для оценки P(N = 3)\n",
    "    if n_cnt == 3:\n",
    "        cnt_3 += 1\n",
    "    \n",
    "result[:10]  # первые 10"
   ]
  },
  {
   "cell_type": "code",
   "execution_count": 18,
   "metadata": {},
   "outputs": [
    {
     "data": {
      "text/plain": [
       "[2, 5, 2, 2, 3, 3, 2, 2, 3, 2]"
      ]
     },
     "execution_count": 18,
     "metadata": {},
     "output_type": "execute_result"
    }
   ],
   "source": [
    "result[-10:] # последние 10"
   ]
  },
  {
   "cell_type": "code",
   "execution_count": 19,
   "metadata": {},
   "outputs": [
    {
     "data": {
      "text/plain": [
       "2.718334"
      ]
     },
     "execution_count": 19,
     "metadata": {},
     "output_type": "execute_result"
    }
   ],
   "source": [
    "from numpy import mean\n",
    "mean(result)"
   ]
  },
  {
   "cell_type": "code",
   "execution_count": 20,
   "metadata": {},
   "outputs": [
    {
     "data": {
      "text/plain": [
       "0.333486"
      ]
     },
     "execution_count": 20,
     "metadata": {},
     "output_type": "execute_result"
    }
   ],
   "source": [
    "cnt_3/10**6"
   ]
  },
  {
   "cell_type": "markdown",
   "metadata": {},
   "source": [
    " "
   ]
  }
 ],
 "metadata": {
  "kernelspec": {
   "display_name": "Python 3",
   "language": "python",
   "name": "python3"
  },
  "language_info": {
   "codemirror_mode": {
    "name": "ipython",
    "version": 3
   },
   "file_extension": ".py",
   "mimetype": "text/x-python",
   "name": "python",
   "nbconvert_exporter": "python",
   "pygments_lexer": "ipython3",
   "version": "3.7.2"
  }
 },
 "nbformat": 4,
 "nbformat_minor": 2
}
