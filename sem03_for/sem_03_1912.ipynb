{
 "cells": [
  {
   "cell_type": "markdown",
   "metadata": {},
   "source": [
    "# Про markdown (Заголовок первого уровня)\n",
    "## Заголовок второго уровня\n",
    "### Заголовок третьего уровня\n",
    "\n",
    "- пункт 1\n",
    "- пункт 2\n",
    "\n",
    "\n",
    "* пункт 1\n",
    "* пункт 2\n",
    "\n",
    "Latex в markdown:\n",
    "\n",
    "$\\xi \\sim \\mathcal{N}(\\mu, \\sigma^2)$"
   ]
  },
  {
   "cell_type": "markdown",
   "metadata": {},
   "source": [
    "# if-else и if-elif-else\n",
    "## Четное или нечетеное число"
   ]
  },
  {
   "cell_type": "code",
   "execution_count": 1,
   "metadata": {},
   "outputs": [
    {
     "name": "stdout",
     "output_type": "stream",
     "text": [
      "7\n",
      "Число нечетное\n"
     ]
    }
   ],
   "source": [
    "x = int(input())\n",
    "\n",
    "\n",
    "if x % 2 == 0:\n",
    "    print('Число четное')\n",
    "else:\n",
    "    print('Число нечетное')"
   ]
  },
  {
   "cell_type": "code",
   "execution_count": 2,
   "metadata": {},
   "outputs": [
    {
     "name": "stdout",
     "output_type": "stream",
     "text": [
      "7\n",
      "Число нечетное\n"
     ]
    }
   ],
   "source": [
    "x = int(input())\n",
    "\n",
    "\n",
    "if x == 0:\n",
    "    print('Вы ввели 0')\n",
    "else:\n",
    "    if x % 2 == 0:\n",
    "        print('Число четное')\n",
    "    else:\n",
    "        print('Число нечетное')\n",
    "    "
   ]
  },
  {
   "cell_type": "code",
   "execution_count": 3,
   "metadata": {},
   "outputs": [
    {
     "name": "stdout",
     "output_type": "stream",
     "text": [
      "Число нечетное\n"
     ]
    }
   ],
   "source": [
    "if x == 0:\n",
    "    print('Вы ввели 0')\n",
    "elif x % 2 == 0:\n",
    "    print('Число четное')\n",
    "else:\n",
    "    print('Число нечетное')"
   ]
  },
  {
   "cell_type": "markdown",
   "metadata": {},
   "source": [
    "## Распродажа\n",
    "- В магазине проходит акция:\n",
    "    - На все товары дешевле 1000 рублей скидка 15%\n",
    "    - На все товары дороже 1000, но дешевле 5000 рублей скидка 20%\n",
    "    - На все товары дороже 5000 рублей скидка 25%\n",
    "\n",
    "- Ввод\n",
    "- Целое неотрицательное число - цена товара в рублях\n",
    "- \n",
    "- Вывод\n",
    "- Целое неотрицательное число - скидка на товар в рублях"
   ]
  },
  {
   "cell_type": "code",
   "execution_count": 4,
   "metadata": {},
   "outputs": [
    {
     "name": "stdout",
     "output_type": "stream",
     "text": [
      "100500\n",
      "75375.0\n"
     ]
    }
   ],
   "source": [
    "x = int(input())\n",
    "\n",
    "if x<=1000:\n",
    "    print(x*0.85)\n",
    "elif 1000<x<=5000:\n",
    "    print(x*0.80)\n",
    "else:\n",
    "    print(x*0.75)"
   ]
  },
  {
   "cell_type": "markdown",
   "metadata": {},
   "source": [
    "# while"
   ]
  },
  {
   "cell_type": "code",
   "execution_count": 5,
   "metadata": {},
   "outputs": [
    {
     "name": "stdout",
     "output_type": "stream",
     "text": [
      "1\n",
      "2\n",
      "3\n",
      "4\n",
      "5\n",
      "6\n",
      "7\n",
      "8\n",
      "9\n",
      "10\n"
     ]
    }
   ],
   "source": [
    "i = 0\n",
    "while i<10:\n",
    "    i += 1\n",
    "    print(i)"
   ]
  },
  {
   "cell_type": "code",
   "execution_count": null,
   "metadata": {},
   "outputs": [],
   "source": [
    "# бесконечный цикл\n",
    "# чтобы остановить нажмите interrupt the kernel (значок стопа (квадратик))\n",
    "i = 0\n",
    "while i<10:\n",
    "    #i += 1\n",
    "    print(i)"
   ]
  },
  {
   "cell_type": "markdown",
   "metadata": {},
   "source": [
    "## break"
   ]
  },
  {
   "cell_type": "code",
   "execution_count": 9,
   "metadata": {},
   "outputs": [
    {
     "name": "stdout",
     "output_type": "stream",
     "text": [
      "i=0, step=1\n",
      "i=0, step=2\n",
      "i=0, step=3\n",
      "i=0, step=4\n",
      "i=0, step=5\n",
      "i=0, step=6\n",
      "i=0, step=7\n",
      "i=0, step=8\n",
      "i=0, step=9\n",
      "i=0, step=10\n",
      "i=0, step=11\n",
      "i=0, step=12\n",
      "i=0, step=13\n",
      "i=0, step=14\n",
      "i=0, step=15\n",
      "i=0, step=16\n",
      "i=0, step=17\n",
      "i=0, step=18\n",
      "i=0, step=19\n",
      "i=0, step=20\n",
      "i=0, step=21\n"
     ]
    }
   ],
   "source": [
    "# бесконечный цикл с выходом через break\n",
    "i = 0\n",
    "step = 0\n",
    "while i<10:\n",
    "    #i += 1\n",
    "    step += 1\n",
    "    print(f'i={i}, step={step}')\n",
    "    if step > 20:\n",
    "        break"
   ]
  },
  {
   "cell_type": "markdown",
   "metadata": {},
   "source": [
    "## Cложные проценты\n",
    "\n",
    "Процентная ставка по вкладу составляет P процентов годовых, которые прибавляются к сумме вклада через год. Вклад составляет X рублей Y копеек. Дробное число копеек по истечении года отбрасывается. Выведите величину вклада в рублях.\n",
    "\n",
    "- Формат ввода\n",
    "    - Программа получает на вход целые числа P, X, Y, K.\n",
    "- Формат вывода\n",
    "    - Программа должна вывести два числа: величину вклада через K лет в рублях и копейках. Перерасчет суммы вклада (с отбрасыванием дробных частей копеек) происходит ежегодно.\n"
   ]
  },
  {
   "cell_type": "code",
   "execution_count": 10,
   "metadata": {},
   "outputs": [
    {
     "name": "stdout",
     "output_type": "stream",
     "text": [
      "0.04\n",
      "1000\n",
      "99\n",
      "20\n"
     ]
    }
   ],
   "source": [
    "p = float(input())\n",
    "x = str(input())\n",
    "y = str(input())\n",
    "k = float(input())"
   ]
  },
  {
   "cell_type": "code",
   "execution_count": 11,
   "metadata": {},
   "outputs": [
    {
     "data": {
      "text/plain": [
       "'1000'"
      ]
     },
     "execution_count": 11,
     "metadata": {},
     "output_type": "execute_result"
    }
   ],
   "source": [
    "x"
   ]
  },
  {
   "cell_type": "code",
   "execution_count": 12,
   "metadata": {},
   "outputs": [
    {
     "data": {
      "text/plain": [
       "'99'"
      ]
     },
     "execution_count": 12,
     "metadata": {},
     "output_type": "execute_result"
    }
   ],
   "source": [
    "y"
   ]
  },
  {
   "cell_type": "code",
   "execution_count": 13,
   "metadata": {},
   "outputs": [],
   "source": [
    "z = x + '.' + y"
   ]
  },
  {
   "cell_type": "code",
   "execution_count": 14,
   "metadata": {},
   "outputs": [
    {
     "data": {
      "text/plain": [
       "'1000.991000.991000.991000.991000.99'"
      ]
     },
     "execution_count": 14,
     "metadata": {},
     "output_type": "execute_result"
    }
   ],
   "source": [
    "z*5"
   ]
  },
  {
   "cell_type": "code",
   "execution_count": 15,
   "metadata": {},
   "outputs": [
    {
     "data": {
      "text/plain": [
       "5004.95"
      ]
     },
     "execution_count": 15,
     "metadata": {},
     "output_type": "execute_result"
    }
   ],
   "source": [
    "float(z)*5"
   ]
  },
  {
   "cell_type": "code",
   "execution_count": 16,
   "metadata": {},
   "outputs": [
    {
     "name": "stdout",
     "output_type": "stream",
     "text": [
      "1 1041\n",
      "2 1082\n",
      "3 1125\n",
      "4 1170\n",
      "5 1216\n",
      "6 1264\n",
      "7 1314\n",
      "8 1366\n",
      "9 1420\n",
      "10 1476\n",
      "11 1535\n",
      "12 1596\n",
      "13 1659\n",
      "14 1725\n",
      "15 1794\n",
      "16 1865\n",
      "17 1939\n",
      "18 2016\n",
      "19 2096\n",
      "20 2179\n",
      "Вклад 1000.99 через 20.0 лет по ставке 0.04 станет 2179\n"
     ]
    }
   ],
   "source": [
    "money = initial = x + '.' + y\n",
    "money = float(money)\n",
    "\n",
    "year = 0\n",
    "while year<k:\n",
    "    money *= (1+p)\n",
    "    money = int(money)\n",
    "    year += 1\n",
    "    print(year, money)\n",
    "\n",
    "print(f'Вклад {initial} через {k} лет по ставке {p} станет {money}')"
   ]
  },
  {
   "cell_type": "markdown",
   "metadata": {},
   "source": [
    "## Когда деньги удвоятся"
   ]
  },
  {
   "cell_type": "code",
   "execution_count": 17,
   "metadata": {},
   "outputs": [
    {
     "name": "stdout",
     "output_type": "stream",
     "text": [
      "Ставка процента: 0.15\n",
      "Первоначальный взнос, рубли: 1000\n",
      "Первоначальный взнос, копейки: 99\n",
      "год: 1, денег на вкладе: 1151\n",
      "год: 2, денег на вкладе: 1323\n",
      "год: 3, денег на вкладе: 1521\n",
      "год: 4, денег на вкладе: 1749\n",
      "год: 5, денег на вкладе: 2011\n",
      "Деньги 1000.99 удволяются через 5 лет\n"
     ]
    }
   ],
   "source": [
    "p = float(input('Ставка процента: '))\n",
    "x = str(input('Первоначальный взнос, рубли: '))\n",
    "y = str(input('Первоначальный взнос, копейки: '))\n",
    "\n",
    "\n",
    "first_deposit = float(x + '.' + y)\n",
    "\n",
    "money = first_deposit\n",
    "year = 0\n",
    "\n",
    "while money <= 2*first_deposit:\n",
    "    year += 1\n",
    "    money *= (1+p)\n",
    "    money = int(money)\n",
    "    print(f'год: {year}, денег на вкладе: {money}')\n",
    "    \n",
    "print(f'Деньги {first_deposit} удволяются через {year} лет')"
   ]
  },
  {
   "cell_type": "markdown",
   "metadata": {},
   "source": [
    "# for"
   ]
  },
  {
   "cell_type": "code",
   "execution_count": 18,
   "metadata": {},
   "outputs": [
    {
     "name": "stdout",
     "output_type": "stream",
     "text": [
      "1\n",
      "2\n",
      "3\n",
      "4\n",
      "5\n",
      "6\n",
      "7\n",
      "8\n",
      "9\n",
      "10\n"
     ]
    }
   ],
   "source": [
    "i = 0\n",
    "while i<10:\n",
    "    i += 1\n",
    "    print(i)"
   ]
  },
  {
   "cell_type": "markdown",
   "metadata": {},
   "source": [
    "## range"
   ]
  },
  {
   "cell_type": "code",
   "execution_count": 19,
   "metadata": {},
   "outputs": [
    {
     "name": "stdout",
     "output_type": "stream",
     "text": [
      "1\n",
      "2\n",
      "3\n",
      "4\n",
      "5\n",
      "6\n",
      "7\n",
      "8\n",
      "9\n",
      "10\n"
     ]
    }
   ],
   "source": [
    "for i in range(1,11,1):\n",
    "    print(i)"
   ]
  },
  {
   "cell_type": "code",
   "execution_count": 20,
   "metadata": {},
   "outputs": [
    {
     "data": {
      "text/plain": [
       "range(1, 11)"
      ]
     },
     "execution_count": 20,
     "metadata": {},
     "output_type": "execute_result"
    }
   ],
   "source": [
    "range(1,11)"
   ]
  },
  {
   "cell_type": "code",
   "execution_count": 21,
   "metadata": {},
   "outputs": [
    {
     "data": {
      "text/plain": [
       "range"
      ]
     },
     "execution_count": 21,
     "metadata": {},
     "output_type": "execute_result"
    }
   ],
   "source": [
    "type(range(1,11))"
   ]
  },
  {
   "cell_type": "code",
   "execution_count": 22,
   "metadata": {},
   "outputs": [
    {
     "data": {
      "text/plain": [
       "[1, 2, 3, 4, 5, 6, 7, 8, 9, 10]"
      ]
     },
     "execution_count": 22,
     "metadata": {},
     "output_type": "execute_result"
    }
   ],
   "source": [
    "list(range(1,11))"
   ]
  },
  {
   "cell_type": "code",
   "execution_count": 23,
   "metadata": {},
   "outputs": [
    {
     "data": {
      "text/plain": [
       "(1, 2, 3, 4, 5, 6, 7, 8, 9, 10)"
      ]
     },
     "execution_count": 23,
     "metadata": {},
     "output_type": "execute_result"
    }
   ],
   "source": [
    "tuple(range(1,11))"
   ]
  },
  {
   "cell_type": "code",
   "execution_count": 24,
   "metadata": {},
   "outputs": [
    {
     "data": {
      "text/plain": [
       "[20, 18, 16, 14, 12, 10, 8, 6, 4, 2, 0]"
      ]
     },
     "execution_count": 24,
     "metadata": {},
     "output_type": "execute_result"
    }
   ],
   "source": [
    "list(range(20,-1,-2))"
   ]
  },
  {
   "cell_type": "code",
   "execution_count": 25,
   "metadata": {},
   "outputs": [
    {
     "data": {
      "text/plain": [
       "[1, 3, 5, 7, 9]"
      ]
     },
     "execution_count": 25,
     "metadata": {},
     "output_type": "execute_result"
    }
   ],
   "source": [
    "some_list = list(range(1,11,2))\n",
    "some_list"
   ]
  },
  {
   "cell_type": "code",
   "execution_count": 26,
   "metadata": {},
   "outputs": [
    {
     "name": "stdout",
     "output_type": "stream",
     "text": [
      "1\n",
      "3\n",
      "5\n",
      "7\n",
      "9\n"
     ]
    }
   ],
   "source": [
    "for element in some_list:\n",
    "    print(element)"
   ]
  },
  {
   "cell_type": "code",
   "execution_count": 27,
   "metadata": {},
   "outputs": [
    {
     "name": "stdout",
     "output_type": "stream",
     "text": [
      "1\n",
      "3\n",
      "5\n",
      "7\n",
      "9\n"
     ]
    }
   ],
   "source": [
    "for i in range(len(some_list)):\n",
    "    print(some_list[i])"
   ]
  },
  {
   "cell_type": "code",
   "execution_count": 28,
   "metadata": {},
   "outputs": [
    {
     "name": "stdout",
     "output_type": "stream",
     "text": [
      "s\n",
      "o\n",
      "m\n",
      "e\n",
      " \n",
      "s\n",
      "t\n",
      "r\n",
      "i\n",
      "n\n",
      "g\n"
     ]
    }
   ],
   "source": [
    "some_str = 'some string'\n",
    "for char in some_str:\n",
    "    print(char)"
   ]
  },
  {
   "cell_type": "code",
   "execution_count": 29,
   "metadata": {},
   "outputs": [
    {
     "data": {
      "text/plain": [
       "[0, 1, 2, 3, 4, 5, 6, 7, 8, 9]"
      ]
     },
     "execution_count": 29,
     "metadata": {},
     "output_type": "execute_result"
    }
   ],
   "source": [
    "list(range(10))"
   ]
  },
  {
   "cell_type": "markdown",
   "metadata": {},
   "source": [
    "## списковые выражения"
   ]
  },
  {
   "cell_type": "code",
   "execution_count": 30,
   "metadata": {},
   "outputs": [
    {
     "data": {
      "text/plain": [
       "385"
      ]
     },
     "execution_count": 30,
     "metadata": {},
     "output_type": "execute_result"
    }
   ],
   "source": [
    "sum([x**2 for x in range(11)])"
   ]
  },
  {
   "cell_type": "markdown",
   "metadata": {},
   "source": [
    "## Сумма чисел"
   ]
  },
  {
   "cell_type": "code",
   "execution_count": 31,
   "metadata": {},
   "outputs": [],
   "source": [
    "# строка с числами\n",
    "some_str = '10 10.3 432.32 0.5233'"
   ]
  },
  {
   "cell_type": "code",
   "execution_count": 32,
   "metadata": {},
   "outputs": [
    {
     "data": {
      "text/plain": [
       "453.1433"
      ]
     },
     "execution_count": 32,
     "metadata": {},
     "output_type": "execute_result"
    }
   ],
   "source": [
    "# без sum\n",
    "my_sum = 0.\n",
    "for element in some_str.split():\n",
    "    my_sum += float(element)\n",
    "my_sum"
   ]
  },
  {
   "cell_type": "code",
   "execution_count": 33,
   "metadata": {},
   "outputs": [
    {
     "data": {
      "text/plain": [
       "453.1433"
      ]
     },
     "execution_count": 33,
     "metadata": {},
     "output_type": "execute_result"
    }
   ],
   "source": [
    "# c sum и списковыми выражениями\n",
    "sum([float(x) for x in some_str.split()])"
   ]
  },
  {
   "cell_type": "code",
   "execution_count": null,
   "metadata": {},
   "outputs": [],
   "source": []
  }
 ],
 "metadata": {
  "kernelspec": {
   "display_name": "Python 3",
   "language": "python",
   "name": "python3"
  },
  "language_info": {
   "codemirror_mode": {
    "name": "ipython",
    "version": 3
   },
   "file_extension": ".py",
   "mimetype": "text/x-python",
   "name": "python",
   "nbconvert_exporter": "python",
   "pygments_lexer": "ipython3",
   "version": "3.6.2"
  },
  "latex_envs": {
   "LaTeX_envs_menu_present": true,
   "autoclose": true,
   "autocomplete": true,
   "bibliofile": "biblio.bib",
   "cite_by": "apalike",
   "current_citInitial": 1,
   "eqLabelWithNumbers": true,
   "eqNumInitial": 1,
   "hotkeys": {
    "equation": "Ctrl-E",
    "itemize": "Ctrl-I"
   },
   "labels_anchors": false,
   "latex_user_defs": false,
   "report_style_numbering": false,
   "user_envs_cfg": false
  },
  "toc": {
   "base_numbering": 1,
   "nav_menu": {},
   "number_sections": true,
   "sideBar": true,
   "skip_h1_title": false,
   "title_cell": "Table of Contents",
   "title_sidebar": "Contents",
   "toc_cell": false,
   "toc_position": {},
   "toc_section_display": true,
   "toc_window_display": true
  }
 },
 "nbformat": 4,
 "nbformat_minor": 4
}
