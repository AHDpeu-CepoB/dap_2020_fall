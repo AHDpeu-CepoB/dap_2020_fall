{
 "cells": [
  {
   "cell_type": "markdown",
   "metadata": {},
   "source": [
    "# <center> Анализ данных на Python </center>"
   ]
  },
  {
   "cell_type": "markdown",
   "metadata": {},
   "source": [
    "![ ](https://sdtimes.com/wp-content/uploads/2019/07/green-tree-python-1014229_640-490x326.jpg)"
   ]
  },
  {
   "cell_type": "markdown",
   "metadata": {},
   "source": [
    "**Семинарист: Ананьева Марина Евгеньевна**\n",
    "\n",
    "Контакты: почта (ananyeva.me@gmail.com), телеграм (@ananyevame)\n",
    "\n",
    "**Ассистент группы 1910: Василий Карев** (jack0karev@gmail.com, @Jack_karev) \n",
    "\n",
    "**Ассистент группы 1911: Александр Андреевский** (akandreevskiy@gmail.com, @alexandreevskiy)\n",
    "\n",
    "С ассистентами можно договариваться о консультациях как в Zoom, так и в офлайне. Обычно ассистенты устраиваивают их для своей группы + всех желающих из других групп, если такие есть.\n",
    "\n",
    "**Основные ссылки**:\n",
    "\n",
    "Индексация в Python начинается с нуля, привыкайте :)\n",
    "\n",
    "1. Wiki страница http://wiki.cs.hse.ru/Анализ_данных_на_python,_фэн,_2020_fall\n",
    "\n",
    "2. Коммуникация через Telegram чат https://t.me/ds_econ_2020 + канал для важных объявлений, сообщения которого пересылаются для всех в чат\n",
    "\n",
    "4. Github репозиторий: https://github.com/hse-econ-data-science/dap_2020_fall"
   ]
  },
  {
   "cell_type": "markdown",
   "metadata": {},
   "source": [
    "### Формула оценки"
   ]
  },
  {
   "cell_type": "markdown",
   "metadata": {},
   "source": [
    "Оценка за курса = **0.1 ДЗ1 + 0.1 ДЗ2 + 0.1 ДЗ3 + 0.1 ДЗ4 + 0.1 ДЗ5 + 0.075 СР1 + 0.075 СР2 + 0.075 СР3 + 0.075 СР4 + 0.1 КР + 0.1 ЭКЗ**"
   ]
  },
  {
   "cell_type": "markdown",
   "metadata": {},
   "source": [
    "### Требования по ПО"
   ]
  },
  {
   "cell_type": "markdown",
   "metadata": {},
   "source": [
    "Anaconda (https://www.anaconda.com/products/individual)\n",
    "\n",
    "или отдельно установить pip и python версии не ниже 3.6 (желательно 3.8). "
   ]
  },
  {
   "cell_type": "markdown",
   "metadata": {},
   "source": [
    "## Cheat sheet по использованию Jupyter Notebook. \n",
    "\n",
    "Python - это язык программирования, а Jupyter Notebook - интерфейс для работы на Python. \n",
    "\n",
    "Посмотрите потом [cheat sheet](https://medium.com/edureka/jupyter-notebook-cheat-sheet-88f60d1aca7) по Jupyter Notebook.\n",
    "\n",
    "Сначала взгляните на меню. Узнайте как делать важные операции с файлом: «Открыть», «Создать копию», «Сохранить как», «Переименовать», «Загрузить как».\n",
    "\n",
    "На нижней строке панели меню:\n",
    "* **Сохранить текущую версию ноутбука** (значок дискеты). Если вы слишком долго работали в записной книжке, лучше нажать на этот значок и сохранить checkpoint (= промежуточную версию вашего файла). В противном случае, если что-то пойдет не так (соединение потеряно, ваш блокнот зависает, потому что больше не может выполнять ваш прекрасный код, или по любой другой причине, когда вселенная против вас и создает вам препятствия), ваш код не будет сохранен и будет потерян. **Ctrl + S / Command + S**\n",
    "\n",
    "* **Добавить новую ячейку** (значок плюса). Не программируйте весь код в одной ячейке. **Добавьте ячейку выше: Ctrl + A / Command + A. Добавьте ячейку ниже: Ctrl + B / Command + B**\n",
    "\n",
    "* **Запустить ячейку.** **Shift + Enter**\n",
    "\n",
    "* **Удалить ячейку.** **D, D ** - двойное нажатие по D в командном режиме. Вход в командный режим (command mode) - клавиша Esc или клик по полю слева (за пределами ячейки, где номер строки). \n",
    "\n",
    "* **Прервать работу ноутбука (значок черного квадрата) и перезапустить (круглая стрелка)**. В большинстве случаев вы используете его, если: 1) вы забыли или не осознали, что вывод вашей ячейки слишком длинный и тяжелый для отображения, и все зависло; 2) вы что-то неправильно написали, например, бесконечный цикл, который никогда не закончится. **Shortcut для прерывания ядра: I, I** - двойное нажатие по I.\n",
    "\n",
    "* **Переключиться тип ячейки на markdown (код -> текст)**. **Shortcut: M** в командном режиме или на панели меню выше. Если вы хотите добавить заголовки или описания в свой код, лучше использовать markdown вместо комментариев (#)."
   ]
  },
  {
   "cell_type": "markdown",
   "metadata": {},
   "source": [
    "# Введение в Python. Базовые структуры данных и операторы\n"
   ]
  },
  {
   "cell_type": "markdown",
   "metadata": {},
   "source": [
    "Почему **Python**? \n",
    "\n",
    "*'When he began implementing Python, Guido van Rossum [the creator of the Python] was also reading the published scripts from “Monty Python's Flying Circus”, a BBC comedy series from the 1970s. Van Rossum thought he needed a name that was short, unique, and slightly mysterious, so he decided to call the language Python'.* [Python FAQ](https://docs.python.org/3/faq/general.html)\n",
    "\n",
    "1. **Python документация** https://docs.python.org/3/\n",
    "2. **Python официальный тьюториал** https://docs.python.org/3/tutorial/"
   ]
  },
  {
   "cell_type": "code",
   "execution_count": 1,
   "metadata": {},
   "outputs": [
    {
     "name": "stdout",
     "output_type": "stream",
     "text": [
      "The Zen of Python, by Tim Peters\n",
      "\n",
      "Beautiful is better than ugly.\n",
      "Explicit is better than implicit.\n",
      "Simple is better than complex.\n",
      "Complex is better than complicated.\n",
      "Flat is better than nested.\n",
      "Sparse is better than dense.\n",
      "Readability counts.\n",
      "Special cases aren't special enough to break the rules.\n",
      "Although practicality beats purity.\n",
      "Errors should never pass silently.\n",
      "Unless explicitly silenced.\n",
      "In the face of ambiguity, refuse the temptation to guess.\n",
      "There should be one-- and preferably only one --obvious way to do it.\n",
      "Although that way may not be obvious at first unless you're Dutch.\n",
      "Now is better than never.\n",
      "Although never is often better than *right* now.\n",
      "If the implementation is hard to explain, it's a bad idea.\n",
      "If the implementation is easy to explain, it may be a good idea.\n",
      "Namespaces are one honking great idea -- let's do more of those!\n"
     ]
    }
   ],
   "source": [
    "import this"
   ]
  },
  {
   "cell_type": "markdown",
   "metadata": {},
   "source": [
    "## Python как калькулятор\n",
    "\n",
    "В этом разделе мы познакомимся с числовыми типами языка Python и рассмотрим базовые операции над ними."
   ]
  },
  {
   "cell_type": "markdown",
   "metadata": {},
   "source": [
    "### Числовые типы данных и типы переменных\n",
    "\n",
    "* Целые числа (int)\n",
    "* Вещественные числа (float)\n",
    "* Комплексные числа (complex)"
   ]
  },
  {
   "cell_type": "code",
   "execution_count": null,
   "metadata": {},
   "outputs": [],
   "source": [
    "5"
   ]
  },
  {
   "cell_type": "code",
   "execution_count": null,
   "metadata": {},
   "outputs": [],
   "source": [
    "type(5)"
   ]
  },
  {
   "cell_type": "code",
   "execution_count": null,
   "metadata": {},
   "outputs": [],
   "source": [
    "10.0"
   ]
  },
  {
   "cell_type": "code",
   "execution_count": null,
   "metadata": {},
   "outputs": [],
   "source": [
    "type(10.0)"
   ]
  },
  {
   "cell_type": "code",
   "execution_count": null,
   "metadata": {},
   "outputs": [],
   "source": [
    "# float -> integer\n",
    "int(10.8)"
   ]
  },
  {
   "cell_type": "markdown",
   "metadata": {},
   "source": [
    "куда пропал остаток 0.8, он же больше 0.5, где округление?"
   ]
  },
  {
   "cell_type": "code",
   "execution_count": null,
   "metadata": {},
   "outputs": [],
   "source": [
    "# округление \n",
    "round(10.8)"
   ]
  },
  {
   "cell_type": "code",
   "execution_count": null,
   "metadata": {},
   "outputs": [],
   "source": [
    "# модуль числа\n",
    "abs(-100)"
   ]
  },
  {
   "cell_type": "code",
   "execution_count": null,
   "metadata": {},
   "outputs": [],
   "source": [
    "10 + 0j"
   ]
  },
  {
   "cell_type": "code",
   "execution_count": null,
   "metadata": {},
   "outputs": [],
   "source": [
    "type(10 + 0j)"
   ]
  },
  {
   "cell_type": "code",
   "execution_count": null,
   "metadata": {},
   "outputs": [],
   "source": [
    "complex(153)"
   ]
  },
  {
   "cell_type": "markdown",
   "metadata": {},
   "source": [
    "Тип переменных есть у всего"
   ]
  },
  {
   "cell_type": "code",
   "execution_count": null,
   "metadata": {},
   "outputs": [],
   "source": [
    "True"
   ]
  },
  {
   "cell_type": "code",
   "execution_count": null,
   "metadata": {},
   "outputs": [],
   "source": [
    "# Булевые переменные\n",
    "type(True)"
   ]
  },
  {
   "cell_type": "code",
   "execution_count": null,
   "metadata": {},
   "outputs": [],
   "source": [
    "# True - 1, False - 0\n",
    "bool(0)"
   ]
  },
  {
   "cell_type": "code",
   "execution_count": null,
   "metadata": {},
   "outputs": [],
   "source": [
    "# На самом деле, все чуть сложнее:\n",
    "bool(-5)"
   ]
  },
  {
   "cell_type": "code",
   "execution_count": null,
   "metadata": {},
   "outputs": [],
   "source": [
    "# None - объект для обозначения отсутствия значения\n",
    "type(None)"
   ]
  },
  {
   "cell_type": "markdown",
   "metadata": {},
   "source": [
    "### Базовые операции с числами\n",
    "\n",
    "Рассмотрим базовые операции над числами \n",
    "\n",
    "https://docs.python.org/3/tutorial/introduction.html#numbers\n",
    "\n",
    "Примеры:"
   ]
  },
  {
   "cell_type": "code",
   "execution_count": null,
   "metadata": {},
   "outputs": [],
   "source": [
    "# сложение \n",
    "2 + 2"
   ]
  },
  {
   "cell_type": "code",
   "execution_count": null,
   "metadata": {},
   "outputs": [],
   "source": [
    "# умножение\n",
    "2 * 3"
   ]
  },
  {
   "cell_type": "code",
   "execution_count": null,
   "metadata": {},
   "outputs": [],
   "source": [
    "# деление\n",
    "6 / 5"
   ]
  },
  {
   "cell_type": "code",
   "execution_count": null,
   "metadata": {},
   "outputs": [],
   "source": [
    "# целочисленное деление (без остатка)\n",
    "12 // 5"
   ]
  },
  {
   "cell_type": "code",
   "execution_count": null,
   "metadata": {},
   "outputs": [],
   "source": [
    "# остаток от деления\n",
    "6 % 5"
   ]
  },
  {
   "cell_type": "code",
   "execution_count": null,
   "metadata": {},
   "outputs": [],
   "source": [
    "# возведение в степень\n",
    "5 ** 2"
   ]
  },
  {
   "cell_type": "code",
   "execution_count": null,
   "metadata": {},
   "outputs": [],
   "source": [
    "# корень числа \n",
    "16 ** (1/2)"
   ]
  },
  {
   "cell_type": "markdown",
   "metadata": {},
   "source": [
    "### Присваивания\n",
    "\n",
    "Присванивания в Python выполняются с помощью оператора ="
   ]
  },
  {
   "cell_type": "code",
   "execution_count": null,
   "metadata": {},
   "outputs": [],
   "source": [
    "x = 1\n",
    "x"
   ]
  },
  {
   "cell_type": "markdown",
   "metadata": {},
   "source": [
    "x - это ссылка на ячейку памяти, где хранится значение 1. Рассмотрим чуть подробнее:"
   ]
  },
  {
   "cell_type": "code",
   "execution_count": null,
   "metadata": {},
   "outputs": [],
   "source": [
    "i = 5     # создать объект int(5), привязать к i\n",
    "j = i     # привязать j к тому же объекту int(5) как у i\n",
    "j = 3     # создать объект int(3) , привязать к j\n",
    "print(i)   # i до сих пор привязано к int(5), а j привязано к int(3)"
   ]
  },
  {
   "cell_type": "markdown",
   "metadata": {},
   "source": [
    "В Python можно делать операции \"in place\" (перезапись значения переменной вместо создания копии):"
   ]
  },
  {
   "cell_type": "code",
   "execution_count": null,
   "metadata": {},
   "outputs": [],
   "source": [
    "x = 1\n",
    "x += 2 # этот оператор называется инкремент\n",
    "x"
   ]
  },
  {
   "cell_type": "markdown",
   "metadata": {},
   "source": [
    "По любой функции/методу можно получить подробную справку в jupyter, выполнив команду, начинающуюся с `?`:"
   ]
  },
  {
   "cell_type": "code",
   "execution_count": null,
   "metadata": {},
   "outputs": [],
   "source": [
    "?len"
   ]
  },
  {
   "cell_type": "markdown",
   "metadata": {},
   "source": [
    "Быструю справку можно получить, если щёлкнуть по нужной функции и нажать shift+tab."
   ]
  },
  {
   "cell_type": "markdown",
   "metadata": {},
   "source": [
    "### Логические операции\n",
    "\n",
    "* Равно (==)\n",
    "* Меньше (<)\n",
    "* Больше (>)\n",
    "* Не равно (!=)\n",
    "\n",
    "Результат логических операций — тип bool (True или False)."
   ]
  },
  {
   "cell_type": "code",
   "execution_count": null,
   "metadata": {},
   "outputs": [],
   "source": [
    "x = 928347348059\n",
    "y = 928347398061"
   ]
  },
  {
   "cell_type": "code",
   "execution_count": null,
   "metadata": {},
   "outputs": [],
   "source": [
    "x < y"
   ]
  },
  {
   "cell_type": "markdown",
   "metadata": {},
   "source": [
    "В Python есть возможность производить двойные сравнения:"
   ]
  },
  {
   "cell_type": "code",
   "execution_count": null,
   "metadata": {},
   "outputs": [],
   "source": [
    "# эквивалентно (1 < 2) and (2 < 3)\n",
    "1 < 2 < 3 "
   ]
  },
  {
   "cell_type": "markdown",
   "metadata": {},
   "source": [
    "### Вывод на экран\n",
    "\n",
    "Для вывода на экран можно использовать функцию print( )."
   ]
  },
  {
   "cell_type": "code",
   "execution_count": null,
   "metadata": {},
   "outputs": [],
   "source": [
    "x = 1\n",
    "x"
   ]
  },
  {
   "cell_type": "code",
   "execution_count": null,
   "metadata": {},
   "outputs": [],
   "source": [
    "print(x)"
   ]
  },
  {
   "cell_type": "code",
   "execution_count": null,
   "metadata": {},
   "outputs": [],
   "source": [
    "type(x)"
   ]
  },
  {
   "cell_type": "code",
   "execution_count": null,
   "metadata": {},
   "outputs": [],
   "source": [
    "type(print(x))"
   ]
  },
  {
   "cell_type": "markdown",
   "metadata": {},
   "source": [
    "Функция print( ) не хранит значения аргументов, она их только выводит, поэтому тип print(x) - это NoneType объект. У print( ) есть различные дополнительные аргументы, позволяющие форматировать вывод:"
   ]
  },
  {
   "cell_type": "code",
   "execution_count": null,
   "metadata": {},
   "outputs": [],
   "source": [
    "print(x, x, sep='\\n', end='!')"
   ]
  },
  {
   "cell_type": "markdown",
   "metadata": {},
   "source": [
    "[много исчерпывающей информации про print, посмотрите позже](https://realpython.com/python-print/)"
   ]
  },
  {
   "cell_type": "markdown",
   "metadata": {},
   "source": [
    "<font color='red'>**Задача 1.** Что будет выведено после следующих команд?</font>\n",
    "    \n",
    "    1. 6.2 % 5\n",
    "    2. 2 / 2 ** 2"
   ]
  },
  {
   "cell_type": "markdown",
   "metadata": {},
   "source": [
    "Порядок арифметических операций https://thehelloworldprogram.com/python/python-operators-order-precedence/ и https://wombat.org.ua/AByteOfPython/operators_and_expressions.html"
   ]
  },
  {
   "cell_type": "markdown",
   "metadata": {},
   "source": [
    "### Ввод\n",
    "\n",
    "Для ввода можно воспользоваться функцией input( )\n",
    "\n",
    "**Внимание**\n",
    "- вводимое через функцию input является строкой (str)\n",
    "- в случае ввода числа известного типа его можно указать (float, int, complex и.т.д.)"
   ]
  },
  {
   "cell_type": "code",
   "execution_count": null,
   "metadata": {},
   "outputs": [],
   "source": [
    "x = input()\n",
    "x, type(x)"
   ]
  },
  {
   "cell_type": "code",
   "execution_count": null,
   "metadata": {},
   "outputs": [],
   "source": [
    "x = int(input())\n",
    "x, type(x)"
   ]
  },
  {
   "cell_type": "code",
   "execution_count": null,
   "metadata": {},
   "outputs": [],
   "source": [
    "x = float(input())\n",
    "x, type(x)"
   ]
  },
  {
   "cell_type": "markdown",
   "metadata": {},
   "source": [
    "## Базовые структуры данных: списки и строки"
   ]
  },
  {
   "cell_type": "markdown",
   "metadata": {},
   "source": [
    "### Строки (string)\n",
    "\n",
    "Строковые константы можно задавать и с помощью одинарных кавычек, и с помощью двойных, и с помощью тройных:"
   ]
  },
  {
   "cell_type": "code",
   "execution_count": null,
   "metadata": {},
   "outputs": [],
   "source": [
    "s1 = 'abc'\n",
    "s2 = \"abc\"\n",
    "s3 = \"\"\"abc\"\"\"\n",
    "\n",
    "s1 == s2 == s3"
   ]
  },
  {
   "cell_type": "code",
   "execution_count": null,
   "metadata": {},
   "outputs": [],
   "source": [
    "title = \"A new book named 'Introduction to Python'\"\n",
    "title"
   ]
  },
  {
   "cell_type": "markdown",
   "metadata": {},
   "source": [
    "Операции над строками:\n",
    "\n",
    "* Сложение строк (+) — конкатенация строк\n",
    "* Умножение строки на целое число n (*) — повтороение строки n раз"
   ]
  },
  {
   "cell_type": "code",
   "execution_count": null,
   "metadata": {},
   "outputs": [],
   "source": [
    "first_string = \"Dear students, \" \n",
    "second_string = 'welcome to the course on Data Analysis!'\n",
    "first_string + second_string"
   ]
  },
  {
   "cell_type": "code",
   "execution_count": null,
   "metadata": {},
   "outputs": [],
   "source": [
    "print('You wil need to work', 'hard ' * 3)"
   ]
  },
  {
   "cell_type": "markdown",
   "metadata": {},
   "source": [
    "Функция `len` — получить длину строки:"
   ]
  },
  {
   "cell_type": "code",
   "execution_count": null,
   "metadata": {},
   "outputs": [],
   "source": [
    "len(\"You wil need to work hard hard hard\")"
   ]
  },
  {
   "cell_type": "markdown",
   "metadata": {},
   "source": [
    "У типа str большое количество встроенных строковых методов:\n",
    "* .find — найти подстроку\n",
    "* .upper — перевести строку в верхний регистр\n",
    "* .lower — перевести строку в нижний регистр\n",
    "* .strip — обрезать по краям поданные символы (по умолчанию пробельные)\n",
    "* .startswith — вернуть True/False, начинается ли строка с введенных символов\n",
    "* .endswith — вернуть True/False, заканчивается ли строка введенными символами\n",
    "* .replace - замена подстроки на другую подстроку"
   ]
  },
  {
   "cell_type": "code",
   "execution_count": null,
   "metadata": {},
   "outputs": [],
   "source": [
    "# find\n",
    "\n",
    "prologue = '''The morning had dawned clear and cold, with a crispness that hinted at\n",
    "the end of summer. They set forth at daybreak to see a man beheaded, twenty in all, and\n",
    "Bran rode among them, nervous with excitement. This was the first time he had been deemed\n",
    "old enough to go with his lord father and his brothers to see the king’s justice done. It was\n",
    "the ninth year of summer, and the seventh of Bran’s life'''\n",
    "\n",
    "prologue.find('Bran')"
   ]
  },
  {
   "cell_type": "code",
   "execution_count": null,
   "metadata": {},
   "outputs": [],
   "source": [
    "print(prologue[prologue.find('Bran'):]) # напечатает всю строку, начиная с'Bran'"
   ]
  },
  {
   "cell_type": "code",
   "execution_count": null,
   "metadata": {},
   "outputs": [],
   "source": [
    "print(prologue[prologue.find('Bran'):prologue.find(' rode')]) # slicing"
   ]
  },
  {
   "cell_type": "code",
   "execution_count": null,
   "metadata": {},
   "outputs": [],
   "source": [
    "feedback = 'This place was bad enough.'\n",
    "\n",
    "print(feedback)\n",
    "if feedback.find('bad') == -1: # если 'bad' не найдено в строке\n",
    "    print('Feedback is not negative')\n",
    "else:\n",
    "    print('Feedback is negative')"
   ]
  },
  {
   "cell_type": "code",
   "execution_count": null,
   "metadata": {},
   "outputs": [],
   "source": [
    "# upper\n",
    "s1.upper()"
   ]
  },
  {
   "cell_type": "code",
   "execution_count": null,
   "metadata": {},
   "outputs": [],
   "source": [
    "#lower\n",
    "s1.upper().lower()"
   ]
  },
  {
   "cell_type": "code",
   "execution_count": null,
   "metadata": {},
   "outputs": [],
   "source": [
    "\"a   \".strip()"
   ]
  },
  {
   "cell_type": "code",
   "execution_count": null,
   "metadata": {},
   "outputs": [],
   "source": [
    "# replace\n",
    "\n",
    "statement = '''I take you, Monica, to be my wife.\\\n",
    "I promise to be true to you in good times and in bad, in sickness and in health.\\\n",
    "I will love you and honour you all the days of my life.'''\n",
    "\n",
    "statement.replace('Monica', 'Rachel')"
   ]
  },
  {
   "cell_type": "markdown",
   "metadata": {},
   "source": [
    "Индексироваться по строкам можно с помощью квадратных скобок:"
   ]
  },
  {
   "cell_type": "code",
   "execution_count": null,
   "metadata": {},
   "outputs": [],
   "source": [
    "s = \"abc\"\n",
    "s[0]"
   ]
  },
  {
   "cell_type": "markdown",
   "metadata": {},
   "source": [
    "**Внимание**: строка — неизменяемый объект!"
   ]
  },
  {
   "cell_type": "code",
   "execution_count": null,
   "metadata": {},
   "outputs": [],
   "source": [
    "s[0] = 'b'"
   ]
  },
  {
   "cell_type": "markdown",
   "metadata": {},
   "source": [
    "Срезы (slicing) — вид продвинутой индексации.\n",
    "\n",
    "s[start:finish:step]\n",
    "\n",
    "* start — начало среза\n",
    "* finish — конец среза (не входит в срез!!!)\n",
    "* step — шаг\n"
   ]
  },
  {
   "cell_type": "code",
   "execution_count": null,
   "metadata": {},
   "outputs": [],
   "source": [
    "s = '0123456789'"
   ]
  },
  {
   "cell_type": "markdown",
   "metadata": {},
   "source": [
    "Срез равный всей строке:"
   ]
  },
  {
   "cell_type": "code",
   "execution_count": null,
   "metadata": {},
   "outputs": [],
   "source": [
    "s[0:len(s):1]"
   ]
  },
  {
   "cell_type": "code",
   "execution_count": null,
   "metadata": {},
   "outputs": [],
   "source": [
    "# срез с шагом 2\n",
    "s[0:len(s):2]"
   ]
  },
  {
   "cell_type": "markdown",
   "metadata": {},
   "source": [
    "Срез равный одному элементу:"
   ]
  },
  {
   "cell_type": "code",
   "execution_count": null,
   "metadata": {},
   "outputs": [],
   "source": [
    "s[1:2]"
   ]
  },
  {
   "cell_type": "markdown",
   "metadata": {},
   "source": [
    "start, finish, step могут иметь отрицательные значения\n",
    "\n",
    "* start == -a $\\; \\leftrightarrow \\;$ start == len(s) - a\n",
    "* finish == -a $\\; \\leftrightarrow \\;$ finish == len(s) - a\n",
    "* step == -a $\\; \\leftrightarrow \\;$ проходить список в обратном направлении"
   ]
  },
  {
   "cell_type": "markdown",
   "metadata": {},
   "source": [
    "<img src=\"https://cdn.programiz.com/sites/tutorial2program/files/python-list-index.png\" width=\"500\" height=\"500\" align=\"left\">"
   ]
  },
  {
   "cell_type": "markdown",
   "metadata": {},
   "source": [
    "<font color='red'>**Задача 2.** Что будет выведено после следующих команд:</font>\n",
    "    1. s[7:-1:-1]\n",
    "    2. s[:100:]\n",
    "    3. s[-1:8:-2]\n",
    "    4. s[4:-7]"
   ]
  },
  {
   "cell_type": "markdown",
   "metadata": {},
   "source": [
    "<font color='red'>**Задача 3.** С помощью среза получите для строки s строку result, состоящую из элементов исходной строки, стоящих на чётных местах, в обратном порядке (включая A[0]), после которых идут элементы строки, стоящие на нечётных местах.</font>\n"
   ]
  },
  {
   "cell_type": "code",
   "execution_count": null,
   "metadata": {},
   "outputs": [],
   "source": [
    "s = 'qwertyuiopasdfghjkl'\n",
    "\n",
    "result = ## your answer here"
   ]
  },
  {
   "cell_type": "markdown",
   "metadata": {},
   "source": [
    "Проверьте себя:"
   ]
  },
  {
   "cell_type": "code",
   "execution_count": null,
   "metadata": {},
   "outputs": [],
   "source": [
    "result == 'ljgdaouteqwryipsfhk'"
   ]
  },
  {
   "cell_type": "markdown",
   "metadata": {},
   "source": [
    "### Списки"
   ]
  },
  {
   "cell_type": "code",
   "execution_count": null,
   "metadata": {},
   "outputs": [],
   "source": [
    "a = [1, 2, 3, 2, 0]"
   ]
  },
  {
   "cell_type": "markdown",
   "metadata": {},
   "source": [
    "В список могут входить любые объекты:"
   ]
  },
  {
   "cell_type": "code",
   "execution_count": null,
   "metadata": {},
   "outputs": [],
   "source": [
    "a = [1, '2', '3', [4, 5]]"
   ]
  },
  {
   "cell_type": "markdown",
   "metadata": {},
   "source": [
    "Операции над списками (похожи на строку):\n",
    "\n",
    "* cложение списков (+) — конкатенация списокв\n",
    "* умножение списка на целое число n (*) — повтороение списка n раз\n",
    "\n",
    "Индексация по списку такая же как и в строках."
   ]
  },
  {
   "cell_type": "code",
   "execution_count": null,
   "metadata": {},
   "outputs": [],
   "source": [
    "b = [1, '2']\n",
    "a + b"
   ]
  },
  {
   "cell_type": "code",
   "execution_count": null,
   "metadata": {},
   "outputs": [],
   "source": [
    "a * 2"
   ]
  },
  {
   "cell_type": "code",
   "execution_count": null,
   "metadata": {},
   "outputs": [],
   "source": [
    "a[::-1]"
   ]
  },
  {
   "cell_type": "markdown",
   "metadata": {},
   "source": [
    "У списка есть встроенный метод для сортировки. Имейте в виду, что для сортировки объекты должны быть сравнимы. "
   ]
  },
  {
   "cell_type": "code",
   "execution_count": null,
   "metadata": {},
   "outputs": [],
   "source": [
    "# sort\n",
    "some_list = [6, 5, 4, 3, 2, 1]\n",
    "some_list.sort(reverse=False)\n",
    "some_list"
   ]
  },
  {
   "cell_type": "markdown",
   "metadata": {},
   "source": [
    "Но можно еще пользоваться встроенной функцией sorted для сортировки разных типов данных(не только списков):"
   ]
  },
  {
   "cell_type": "code",
   "execution_count": null,
   "metadata": {},
   "outputs": [],
   "source": [
    "sorted([1, 2, 1, 0, 2, 0])"
   ]
  },
  {
   "cell_type": "markdown",
   "metadata": {},
   "source": [
    "**Внимание**: список — изменяемый объект! \n",
    "\n",
    "Можно менять элементы списка, можно добавлять новые элементы и удалять старые (`.append` и `.pop`)."
   ]
  },
  {
   "cell_type": "code",
   "execution_count": null,
   "metadata": {},
   "outputs": [],
   "source": [
    "a[0] = '123'\n",
    "a"
   ]
  },
  {
   "cell_type": "code",
   "execution_count": null,
   "metadata": {},
   "outputs": [],
   "source": [
    "a.append('data science')\n",
    "a"
   ]
  },
  {
   "cell_type": "markdown",
   "metadata": {},
   "source": [
    "### Преобразования списков и строк\n",
    "\n",
    "Два основных строковых метода для взаимодействия списков и строк:\n",
    "\n",
    "* .split — разделить строку на список строк по определённому сепаратору\n",
    "* .join — соеденить список строк в одну большую строку по определённому сепаратору"
   ]
  },
  {
   "cell_type": "code",
   "execution_count": null,
   "metadata": {},
   "outputs": [],
   "source": [
    "# split\n",
    "text_line = 'You need_to split this_sentence into four parts_by underscore sign.'\n",
    "print(text_line.split('_'))"
   ]
  },
  {
   "cell_type": "code",
   "execution_count": null,
   "metadata": {},
   "outputs": [],
   "source": [
    "# join\n",
    "text_line = 'You need to join this sentence by asterisks instead of white spaces.'\n",
    "'*'.join(text_line.split(' '))"
   ]
  },
  {
   "cell_type": "markdown",
   "metadata": {},
   "source": [
    "<font color='red'>**Задача 4.** В строке s через запятую записаны слова. Получите строку result, в которой будут записаны через запятую слова из s, отсортированные в лексикографическом порядке. </font>\n"
   ]
  },
  {
   "cell_type": "code",
   "execution_count": null,
   "metadata": {},
   "outputs": [],
   "source": [
    "s = \"my,mother,is,washing,window,my,father,is,watching,movies\"\n",
    "\n",
    "## your code here "
   ]
  },
  {
   "cell_type": "code",
   "execution_count": null,
   "metadata": {},
   "outputs": [],
   "source": [
    "result == 'father,is,is,mother,movies,my,my,washing,watching,window'"
   ]
  },
  {
   "cell_type": "markdown",
   "metadata": {},
   "source": [
    "## Домашнее задание до следующего семинара\n",
    "\n",
    "**0.** Установить Anaconda, скачать этот ноутбук из github и запустить все ячейки еще раз. Проделайте все дополнительные задачи, которые мы не охватили на семинаре. \n",
    "\n",
    "**1.** Попробовать освоить первые три урока из Pythontutor: https://pythontutor.ru/lessons/inout_and_arithmetic_operations \n",
    "\n",
    "или\n",
    "\n",
    "**1.** Пройти первые две недели курса на Coursera: https://www.coursera.org/learn/python-osnovy-programmirovaniya#syllabus \n",
    "\n",
    "**2.** Крайне советую посмотреть документацию и официальный тьюториал и периодически туда обращаться на протяжении всего курса (ссылки в начале ноутбука)\n",
    "\n",
    "Если у вас возникают ошибки при запуске ячеек, копируйте логи в поисковик и смотрите ответы на stackoverflow + пишите ассистенту и/или семинаристу, мы с радостью поможем!"
   ]
  },
  {
   "cell_type": "code",
   "execution_count": null,
   "metadata": {},
   "outputs": [],
   "source": []
  }
 ],
 "metadata": {
  "kernelspec": {
   "display_name": "Python 3",
   "language": "python",
   "name": "python3"
  },
  "language_info": {
   "codemirror_mode": {
    "name": "ipython",
    "version": 3
   },
   "file_extension": ".py",
   "mimetype": "text/x-python",
   "name": "python",
   "nbconvert_exporter": "python",
   "pygments_lexer": "ipython3",
   "version": "3.6.12"
  }
 },
 "nbformat": 4,
 "nbformat_minor": 2
}
